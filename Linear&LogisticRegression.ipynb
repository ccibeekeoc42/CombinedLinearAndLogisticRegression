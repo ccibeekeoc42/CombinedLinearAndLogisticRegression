{
  "nbformat": 4,
  "nbformat_minor": 0,
  "metadata": {
    "colab": {
      "provenance": [],
      "collapsed_sections": []
    },
    "kernelspec": {
      "name": "python3",
      "display_name": "Python 3"
    },
    "language_info": {
      "name": "python"
    }
  },
  "cells": [
    {
      "cell_type": "markdown",
      "source": [
        "#### Preparing our imports"
      ],
      "metadata": {
        "id": "26p4o0MpZpbB"
      }
    },
    {
      "cell_type": "code",
      "source": [
        "import numpy as np\n",
        "from sklearn import datasets\n",
        "from sklearn.model_selection import train_test_split\n",
        "import matplotlib.pyplot as plt"
      ],
      "metadata": {
        "id": "9wbj4c5VZoq9"
      },
      "execution_count": null,
      "outputs": []
    },
    {
      "cell_type": "markdown",
      "source": [
        "#### Implementing the Linear & Logistic Regression logic"
      ],
      "metadata": {
        "id": "5U0tjtgZV0Z1"
      }
    },
    {
      "cell_type": "code",
      "source": [
        "class BaseRegression():\n",
        "  '''Implementing the Base Regression algorithm.'''\n",
        "  def __init__(self, lr=0.01, n_iters=1000):\n",
        "    self.lr = lr\n",
        "    self.n_iters = n_iters\n",
        "    self.weights = None\n",
        "    self.bias = None\n",
        "\n",
        "  def fit(self, X, y):\n",
        "    '''training the dataset'''\n",
        "    # initializing the weights and bias\n",
        "    n_samples, n_features = X.shape\n",
        "    self.weights = np.random.rand(n_features)\n",
        "    self.bias = 0\n",
        "\n",
        "    # learning Weights\n",
        "    for _ in range(self.n_iters):\n",
        "      y_pred = self._approximation(X, self.weights, self.bias)\n",
        "      dw = (2/n_samples)* np.dot(X.T, (y - y_pred))\n",
        "      db = (2/n_samples)* np.sum(y - y_pred)\n",
        "\n",
        "      self.weights += self.lr * dw\n",
        "      self.bias += self.lr * db\n",
        "\n",
        "  def predict(self, X):\n",
        "    '''predicting for the dataset'''\n",
        "    return self._predict(X, self.weights, self.bias)\n",
        "    \n",
        "  def _approximation(self, X, w, b):\n",
        "    raise NotImplementedError()\n",
        "\n",
        "  def _predict(self, X, w, b):\n",
        "    raise NotImplementedError()\n"
      ],
      "metadata": {
        "id": "-hR5P1wBWKPa"
      },
      "execution_count": null,
      "outputs": []
    },
    {
      "cell_type": "markdown",
      "source": [
        "###### Linear Regression Class"
      ],
      "metadata": {
        "id": "EoFr1txouz7g"
      }
    },
    {
      "cell_type": "code",
      "source": [
        "class LinearRegression(BaseRegression):  \n",
        "  def _approximation(self, X, w, b):\n",
        "    '''Implementing method from Base Class to approximate the output'''\n",
        "    return np.dot(X, w) + b\n",
        "\n",
        "  def _predict(self, X, w, b):\n",
        "    return np.dot(X, w) + b"
      ],
      "metadata": {
        "id": "qEAkx-uxYkIB"
      },
      "execution_count": null,
      "outputs": []
    },
    {
      "cell_type": "markdown",
      "source": [
        "###### Linear Regression Class"
      ],
      "metadata": {
        "id": "mSpjf7kZu6Wf"
      }
    },
    {
      "cell_type": "code",
      "source": [
        "def sigmoid(x):\n",
        "  return 1/(1 + np.exp(-x))\n",
        "\n",
        "class LogisticRegression(BaseRegression):\n",
        "  def _approximation(self, X, w, b):\n",
        "    '''Implementing method from Base Class to approximate the output'''\n",
        "    linear_pred = np.dot(X, w) + b\n",
        "    return sigmoid(linear_pred)\n",
        "\n",
        "  def _predict(self, X, w, b):\n",
        "    y_pred = sigmoid(np.dot(X, w) + b)\n",
        "    Y_pred_class = [1 if y > 0.5 else 0 for y in y_pred]\n",
        "    return Y_pred_class"
      ],
      "metadata": {
        "id": "-NCb_8mrFhRs"
      },
      "execution_count": null,
      "outputs": []
    },
    {
      "cell_type": "markdown",
      "source": [
        "#### Training & Testing the Linear Regressor"
      ],
      "metadata": {
        "id": "Yiaxq3Rxt3H3"
      }
    },
    {
      "cell_type": "code",
      "source": [
        "X, y = datasets.make_regression(n_samples=100, n_features=1, noise=20, random_state=4)\n",
        "X_train, X_test, y_train, y_test = train_test_split(X, y, test_size=0.2, random_state=1234)\n",
        "\n",
        "plt.scatter(X[:,0], y, color='b', marker='+', s=30)\n",
        "plt.ylabel('x', size=20)\n",
        "plt.xlabel('y', size=20)\n",
        "plt.grid()"
      ],
      "metadata": {
        "colab": {
          "base_uri": "https://localhost:8080/",
          "height": 288
        },
        "id": "0TZ3fQcqt6tF",
        "outputId": "ed225487-3c9d-43ad-d6f0-aa844ae74557"
      },
      "execution_count": null,
      "outputs": [
        {
          "output_type": "display_data",
          "data": {
            "text/plain": [
              "<Figure size 432x288 with 1 Axes>"
            ],
            "image/png": "[encoded data removed]"
          },
          "metadata": {
            "needs_background": "light"
          }
        }
      ]
    },
    {
      "cell_type": "code",
      "source": [
        "regressor = LinearRegression(lr=0.001)\n",
        "regressor.fit(X_train, y_train)\n",
        "y_pred = regressor.predict(X_test)\n",
        "\n",
        "def mse(y_pred, y_true):\n",
        "  return np.mean((y_pred - y_true)**2)\n",
        "\n",
        "print(mse(y_pred, y_test))\n",
        "plt.scatter(X_train, y_train, color='b', marker='+', s=30)\n",
        "plt.scatter(X_test, y_test, color='r', marker='+', s=30)\n",
        "plt.plot(X, regressor.predict(X), color='k', linewidth=2.5)\n",
        "plt.ylabel('x', size=20)\n",
        "plt.xlabel('y', size=20)\n",
        "plt.grid()"
      ],
      "metadata": {
        "colab": {
          "base_uri": "https://localhost:8080/",
          "height": 305
        },
        "id": "TBxnoDAWubtd",
        "outputId": "03b19d32-a0e9-4251-b9bb-b7a1ced3810c"
      },
      "execution_count": null,
      "outputs": [
        {
          "output_type": "stream",
          "name": "stdout",
          "text": [
            "360.50753682922266\n"
          ]
        },
        {
          "output_type": "display_data",
          "data": {
            "text/plain": [
              "<Figure size 432x288 with 1 Axes>"
            ],
            "image/png": "[encoded data removed]"
          },
          "metadata": {
            "needs_background": "light"
          }
        }
      ]
    },
    {
      "cell_type": "markdown",
      "source": [
        "#### Training & Testing the Linear Regressor"
      ],
      "metadata": {
        "id": "VaRdwxgPV6If"
      }
    },
    {
      "cell_type": "code",
      "source": [
        "data = datasets.load_breast_cancer()\n",
        "X, y = data.data, data.target\n",
        "X_train, X_test, y_train, y_test = train_test_split(X, y, test_size=0.2, random_state=1234)\n",
        "\n",
        "def accuracy(y_true, y_pred):\n",
        "  return np.sum(y_true == y_pred) / len(y_true)\n",
        "\n",
        "regressor = LogisticRegression(lr=0.001, n_iters=1000)\n",
        "regressor.fit(X_train, y_train)\n",
        "y_pred = regressor.predict(X_test)\n",
        "\n",
        "print(\"Logistic Regression classification accuracy: \", round(accuracy(y_test, y_pred), 2))"
      ],
      "metadata": {
        "colab": {
          "base_uri": "https://localhost:8080/"
        },
        "id": "TdTQlxIqV-FG",
        "outputId": "225020e2-afc5-483c-f728-d48563827939"
      },
      "execution_count": null,
      "outputs": [
        {
          "output_type": "stream",
          "name": "stderr",
          "text": [
            "/usr/local/lib/python3.7/dist-packages/ipykernel_launcher.py:2: RuntimeWarning: overflow encountered in exp\n",
            "  \n"
          ]
        },
        {
          "output_type": "stream",
          "name": "stdout",
          "text": [
            "Logistic Regression classification accuracy:  0.92\n"
          ]
        }
      ]
    },
    {
      "cell_type": "markdown",
      "source": [
        "###### Credits: https://www.youtube.com/watch?v=YYEJ_GUguHw"
      ],
      "metadata": {
        "id": "qjXr5J7wKb58"
      }
    }
  ]
}